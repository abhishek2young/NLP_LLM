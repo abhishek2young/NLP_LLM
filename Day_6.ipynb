{
 "cells": [
  {
   "cell_type": "code",
   "execution_count": 4,
   "metadata": {},
   "outputs": [],
   "source": [
    "import re"
   ]
  },
  {
   "cell_type": "code",
   "execution_count": 1,
   "metadata": {},
   "outputs": [],
   "source": [
    "url = \"https://meet.google.com/iva-bwdm-hqg\""
   ]
  },
  {
   "cell_type": "code",
   "execution_count": 2,
   "metadata": {},
   "outputs": [],
   "source": [
    "pattern = r\"https?:[//]\\S*\""
   ]
  },
  {
   "cell_type": "code",
   "execution_count": 3,
   "metadata": {},
   "outputs": [],
   "source": [
    "url = \"this is colab link : https://colab.research.google.com/drive/1KGxXJ3KV0DPFO90Jnh02UrGBB5TiNFQ7#scrollTo=_ogixQwr3gBm\""
   ]
  },
  {
   "cell_type": "code",
   "execution_count": 5,
   "metadata": {},
   "outputs": [
    {
     "data": {
      "text/plain": [
       "'this is colab link : '"
      ]
     },
     "execution_count": 5,
     "metadata": {},
     "output_type": "execute_result"
    }
   ],
   "source": [
    "url_pattern = re.compile(pattern)\n",
    "url_pattern.sub(\"\",url)"
   ]
  },
  {
   "cell_type": "code",
   "execution_count": 6,
   "metadata": {},
   "outputs": [],
   "source": [
    "html_text = '''\n",
    "<html>\n",
    "<body>\n",
    "    <header>\n",
    "        <h1>Welcome to My Blog</h1>\n",
    "    </header>\n",
    "    <article>\n",
    "        <h2>Post Title 1</h2>\n",
    "        <p>Here is some content for my blog post. It could be about anything interesting or informative.</p>\n",
    "        <p>Feel free to share your thoughts in the comments section below.</p>\n",
    "    </article>\n",
    "    <article>\n",
    "        <h2>Post Title 2</h2>\n",
    "        <p>This is another post with more content. Blogs are a great way to share information and ideas.</p>\n",
    "        <p>Don't forget to subscribe for updates!</p>\n",
    "    </article>\n",
    "</body>\n",
    "</html>\n",
    "\n",
    "'''"
   ]
  },
  {
   "cell_type": "code",
   "execution_count": 7,
   "metadata": {},
   "outputs": [],
   "source": [
    "pattern = r\"<[^>]*>\""
   ]
  },
  {
   "cell_type": "code",
   "execution_count": 8,
   "metadata": {},
   "outputs": [],
   "source": [
    "html_pattern = re.compile(pattern)\n"
   ]
  },
  {
   "cell_type": "code",
   "execution_count": 9,
   "metadata": {},
   "outputs": [
    {
     "data": {
      "text/plain": [
       "\"\\n\\n\\n    \\n        Welcome to My Blog\\n    \\n    \\n        Post Title 1\\n        Here is some content for my blog post. It could be about anything interesting or informative.\\n        Feel free to share your thoughts in the comments section below.\\n    \\n    \\n        Post Title 2\\n        This is another post with more content. Blogs are a great way to share information and ideas.\\n        Don't forget to subscribe for updates!\\n    \\n\\n\\n\\n\""
      ]
     },
     "execution_count": 9,
     "metadata": {},
     "output_type": "execute_result"
    }
   ],
   "source": [
    "html_pattern.sub(\"\",html_text)"
   ]
  },
  {
   "cell_type": "code",
   "execution_count": 10,
   "metadata": {},
   "outputs": [
    {
     "data": {
      "text/plain": [
       "\"\\n\\n\\n        Welcome to My Blog\\n\\n\\n        Post Title 1\\n        Here is some content for my blog post. It could be about anything interesting or informative.\\n        Feel free to share your thoughts in the comments section below.\\n\\n\\n        Post Title 2\\n        This is another post with more content. Blogs are a great way to share information and ideas.\\n        Don't forget to subscribe for updates!\\n\\n\\n\\n\""
      ]
     },
     "execution_count": 10,
     "metadata": {},
     "output_type": "execute_result"
    }
   ],
   "source": [
    "'''\n",
    "\n",
    "\n",
    "        Welcome to My Blog\n",
    "\n",
    "\n",
    "        Post Title 1\n",
    "        Here is some content for my blog post. It could be about anything interesting or informative.\n",
    "        Feel free to share your thoughts in the comments section below.\n",
    "\n",
    "\n",
    "        Post Title 2\n",
    "        This is another post with more content. Blogs are a great way to share information and ideas.\n",
    "        Don't forget to subscribe for updates!\n",
    "\n",
    "\n",
    "\n",
    "'''"
   ]
  },
  {
   "cell_type": "code",
   "execution_count": 11,
   "metadata": {},
   "outputs": [],
   "source": [
    "from bs4 import BeautifulSoup"
   ]
  },
  {
   "cell_type": "code",
   "execution_count": 13,
   "metadata": {},
   "outputs": [
    {
     "ename": "FeatureNotFound",
     "evalue": "Couldn't find a tree builder with the features you requested: lxml. Do you need to install a parser library?",
     "output_type": "error",
     "traceback": [
      "\u001b[1;31m---------------------------------------------------------------------------\u001b[0m",
      "\u001b[1;31mFeatureNotFound\u001b[0m                           Traceback (most recent call last)",
      "Cell \u001b[1;32mIn[13], line 1\u001b[0m\n\u001b[1;32m----> 1\u001b[0m \u001b[43mBeautifulSoup\u001b[49m\u001b[43m(\u001b[49m\u001b[43mhtml_text\u001b[49m\u001b[43m,\u001b[49m\u001b[38;5;124;43m'\u001b[39;49m\u001b[38;5;124;43mlxml\u001b[39;49m\u001b[38;5;124;43m'\u001b[39;49m\u001b[43m)\u001b[49m\u001b[38;5;241m.\u001b[39mtext\n",
      "File \u001b[1;32mc:\\Users\\abhis\\.conda\\envs\\Abhishek\\lib\\site-packages\\bs4\\__init__.py:250\u001b[0m, in \u001b[0;36mBeautifulSoup.__init__\u001b[1;34m(self, markup, features, builder, parse_only, from_encoding, exclude_encodings, element_classes, **kwargs)\u001b[0m\n\u001b[0;32m    248\u001b[0m     builder_class \u001b[38;5;241m=\u001b[39m builder_registry\u001b[38;5;241m.\u001b[39mlookup(\u001b[38;5;241m*\u001b[39mfeatures)\n\u001b[0;32m    249\u001b[0m     \u001b[38;5;28;01mif\u001b[39;00m builder_class \u001b[38;5;129;01mis\u001b[39;00m \u001b[38;5;28;01mNone\u001b[39;00m:\n\u001b[1;32m--> 250\u001b[0m         \u001b[38;5;28;01mraise\u001b[39;00m FeatureNotFound(\n\u001b[0;32m    251\u001b[0m             \u001b[38;5;124m\"\u001b[39m\u001b[38;5;124mCouldn\u001b[39m\u001b[38;5;124m'\u001b[39m\u001b[38;5;124mt find a tree builder with the features you \u001b[39m\u001b[38;5;124m\"\u001b[39m\n\u001b[0;32m    252\u001b[0m             \u001b[38;5;124m\"\u001b[39m\u001b[38;5;124mrequested: \u001b[39m\u001b[38;5;132;01m%s\u001b[39;00m\u001b[38;5;124m. Do you need to install a parser library?\u001b[39m\u001b[38;5;124m\"\u001b[39m\n\u001b[0;32m    253\u001b[0m             \u001b[38;5;241m%\u001b[39m \u001b[38;5;124m\"\u001b[39m\u001b[38;5;124m,\u001b[39m\u001b[38;5;124m\"\u001b[39m\u001b[38;5;241m.\u001b[39mjoin(features))\n\u001b[0;32m    255\u001b[0m \u001b[38;5;66;03m# At this point either we have a TreeBuilder instance in\u001b[39;00m\n\u001b[0;32m    256\u001b[0m \u001b[38;5;66;03m# builder, or we have a builder_class that we can instantiate\u001b[39;00m\n\u001b[0;32m    257\u001b[0m \u001b[38;5;66;03m# with the remaining **kwargs.\u001b[39;00m\n\u001b[0;32m    258\u001b[0m \u001b[38;5;28;01mif\u001b[39;00m builder \u001b[38;5;129;01mis\u001b[39;00m \u001b[38;5;28;01mNone\u001b[39;00m:\n",
      "\u001b[1;31mFeatureNotFound\u001b[0m: Couldn't find a tree builder with the features you requested: lxml. Do you need to install a parser library?"
     ]
    }
   ],
   "source": [
    "BeautifulSoup(html_text,'lxml').text"
   ]
  },
  {
   "cell_type": "code",
   "execution_count": 14,
   "metadata": {},
   "outputs": [],
   "source": [
    "with open(\"Abbrivations.txt\",\"r\")as f:\n",
    "    data = f.read()\n",
    "    "
   ]
  },
  {
   "cell_type": "code",
   "execution_count": 15,
   "metadata": {},
   "outputs": [
    {
     "data": {
      "text/plain": [
       "'{\\n    \"$\" : \" dollar \",\\n    \"€\" : \" euro \",\\n    \"4ao\" : \"for adults only\",\\n    \"a.m\" : \"before midday\",\\n    \"a3\" : \"anytime anywhere anyplace\",\\n    \"aamof\" : \"as a matter of fact\",\\n    \"acct\" : \"account\",\\n    \"adih\" : \"another day in hell\",\\n    \"afaic\" : \"as far as i am concerned\",\\n    \"afaict\" : \"as far as i can tell\",\\n    \"afaik\" : \"as far as i know\",\\n    \"afair\" : \"as far as i remember\",\\n    \"afk\" : \"away from keyboard\",\\n    \"app\" : \"application\",\\n    \"approx\" : \"approximately\",\\n    \"apps\" : \"applications\",\\n    \"asap\" : \"as soon as possible\",\\n    \"asl\" : \"age, sex, location\",\\n    \"atk\" : \"at the keyboard\",\\n    \"ave.\" : \"avenue\",\\n    \"aymm\" : \"are you my mother\",\\n    \"ayor\" : \"at your own risk\", \\n    \"b&b\" : \"bed and breakfast\",\\n    \"b+b\" : \"bed and breakfast\",\\n    \"b.c\" : \"before christ\",\\n    \"b2b\" : \"business to business\",\\n    \"b2c\" : \"business to customer\",\\n    \"b4\" : \"before\",\\n    \"b4n\" : \"bye for now\",\\n    \"b@u\" : \"back at you\",\\n    \"bae\" : \"before anyone else\",\\n    \"bak\" : \"back at keyboard\",\\n    \"bbbg\" : \"bye bye be good\",\\n    \"bbc\" : \"british broadcasting corporation\",\\n    \"bbias\" : \"be back in a second\",\\n    \"bbl\" : \"be back later\",\\n    \"bbs\" : \"be back soon\",\\n    \"be4\" : \"before\",\\n    \"bfn\" : \"bye for now\",\\n    \"blvd\" : \"boulevard\",\\n    \"bout\" : \"about\",\\n    \"brb\" : \"be right back\",\\n    \"bros\" : \"brothers\",\\n    \"brt\" : \"be right there\",\\n    \"bsaaw\" : \"big smile and a wink\",\\n    \"btw\" : \"by the way\",\\n    \"bwl\" : \"bursting with laughter\",\\n    \"c/o\" : \"care of\",\\n    \"cet\" : \"central european time\",\\n    \"cf\" : \"compare\",\\n    \"cia\" : \"central intelligence agency\",\\n    \"csl\" : \"can not stop laughing\",\\n    \"cu\" : \"see you\",\\n    \"cul8r\" : \"see you later\",\\n    \"cv\" : \"curriculum vitae\",\\n    \"cwot\" : \"complete waste of time\",\\n    \"cya\" : \"see you\",\\n    \"cyt\" : \"see you tomorrow\",\\n    \"dae\" : \"does anyone else\",\\n    \"dbmib\" : \"do not bother me i am busy\",\\n    \"diy\" : \"do it yourself\",\\n    \"dm\" : \"direct message\",\\n    \"dwh\" : \"during work hours\",\\n    \"e123\" : \"easy as one two three\",\\n    \"eet\" : \"eastern european time\",\\n    \"eg\" : \"example\",\\n    \"embm\" : \"early morning business meeting\",\\n    \"encl\" : \"enclosed\",\\n    \"encl.\" : \"enclosed\",\\n    \"etc\" : \"and so on\",\\n    \"faq\" : \"frequently asked questions\",\\n    \"fawc\" : \"for anyone who cares\",\\n    \"fb\" : \"facebook\",\\n    \"fc\" : \"fingers crossed\",\\n    \"fig\" : \"figure\",\\n    \"fimh\" : \"forever in my heart\", \\n    \"ft.\" : \"feet\",\\n    \"ft\" : \"featuring\",\\n    \"ftl\" : \"for the loss\",\\n    \"ftw\" : \"for the win\",\\n    \"fwiw\" : \"for what it is worth\",\\n    \"fyi\" : \"for your information\",\\n    \"g9\" : \"genius\",\\n    \"gahoy\" : \"get a hold of yourself\",\\n    \"gal\" : \"get a life\",\\n    \"gcse\" : \"general certificate of secondary education\",\\n    \"gfn\" : \"gone for now\",\\n    \"gg\" : \"good game\",\\n    \"gl\" : \"good luck\",\\n    \"glhf\" : \"good luck have fun\",\\n    \"gmt\" : \"greenwich mean time\",\\n    \"gmta\" : \"great minds think alike\",\\n    \"gn\" : \"good night\",\\n    \"g.o.a.t\" : \"greatest of all time\",\\n    \"goat\" : \"greatest of all time\",\\n    \"goi\" : \"get over it\",\\n    \"gps\" : \"global positioning system\",\\n    \"gr8\" : \"great\",\\n    \"gratz\" : \"congratulations\",\\n    \"gyal\" : \"girl\",\\n    \"h&c\" : \"hot and cold\",\\n    \"hp\" : \"horsepower\",\\n    \"hr\" : \"hour\",\\n    \"hrh\" : \"his royal highness\",\\n    \"ht\" : \"height\",\\n    \"ibrb\" : \"i will be right back\",\\n    \"ic\" : \"i see\",\\n    \"icq\" : \"i seek you\",\\n    \"icymi\" : \"in case you missed it\",\\n    \"idc\" : \"i do not care\",\\n    \"idgadf\" : \"i do not give a damn fuck\",\\n    \"idgaf\" : \"i do not give a fuck\",\\n    \"idk\" : \"i do not know\",\\n    \"ie\" : \"that is\",\\n    \"i.e\" : \"that is\",\\n    \"ifyp\" : \"i feel your pain\",\\n    \"IG\" : \"instagram\",\\n    \"iirc\" : \"if i remember correctly\",\\n    \"ilu\" : \"i love you\",\\n    \"ily\" : \"i love you\",\\n    \"imho\" : \"in my humble opinion\",\\n    \"imo\" : \"in my opinion\",\\n    \"imu\" : \"i miss you\",\\n    \"iow\" : \"in other words\",\\n    \"irl\" : \"in real life\",\\n    \"j4f\" : \"just for fun\",\\n    \"jic\" : \"just in case\",\\n    \"jk\" : \"just kidding\",\\n    \"jsyk\" : \"just so you know\",\\n    \"l8r\" : \"later\",\\n    \"lb\" : \"pound\",\\n    \"lbs\" : \"pounds\",\\n    \"ldr\" : \"long distance relationship\",\\n    \"lmao\" : \"laugh my ass off\",\\n    \"lmfao\" : \"laugh my fucking ass off\",\\n    \"lol\" : \"laughing out loud\",\\n    \"ltd\" : \"limited\",\\n    \"ltns\" : \"long time no see\",\\n    \"m8\" : \"mate\",\\n    \"mf\" : \"motherfucker\",\\n    \"mfs\" : \"motherfuckers\",\\n    \"mfw\" : \"my face when\",\\n    \"mofo\" : \"motherfucker\",\\n    \"mph\" : \"miles per hour\",\\n    \"mr\" : \"mister\",\\n    \"mrw\" : \"my reaction when\",\\n    \"ms\" : \"miss\",\\n    \"mte\" : \"my thoughts exactly\",\\n    \"nagi\" : \"not a good idea\",\\n    \"nbc\" : \"national broadcasting company\",\\n    \"nbd\" : \"not big deal\",\\n    \"nfs\" : \"not for sale\",\\n    \"ngl\" : \"not going to lie\",\\n    \"nhs\" : \"national health service\",\\n    \"nrn\" : \"no reply necessary\",\\n    \"nsfl\" : \"not safe for life\",\\n    \"nsfw\" : \"not safe for work\",\\n    \"nth\" : \"nice to have\",\\n    \"nvr\" : \"never\",\\n    \"nyc\" : \"new york city\",\\n    \"oc\" : \"original content\",\\n    \"og\" : \"original\",\\n    \"ohp\" : \"overhead projector\",\\n    \"oic\" : \"oh i see\",\\n    \"omdb\" : \"over my dead body\",\\n    \"omg\" : \"oh my god\",\\n    \"omw\" : \"on my way\",\\n    \"p.a\" : \"per annum\",\\n    \"p.m\" : \"after midday\",\\n    \"pm\" : \"prime minister\",\\n    \"poc\" : \"people of color\",\\n    \"pov\" : \"point of view\",\\n    \"pp\" : \"pages\",\\n    \"ppl\" : \"people\",\\n    \"prw\" : \"parents are watching\",\\n    \"ps\" : \"postscript\",\\n    \"pt\" : \"point\",\\n    \"ptb\" : \"please text back\",\\n    \"pto\" : \"please turn over\",\\n    \"qpsa\" : \"what happens\", #\"que pasa\",\\n    \"ratchet\" : \"rude\",\\n    \"rbtl\" : \"read between the lines\",\\n    \"rlrt\" : \"real life retweet\", \\n    \"rofl\" : \"rolling on the floor laughing\",\\n    \"roflol\" : \"rolling on the floor laughing out loud\",\\n    \"rotflmao\" : \"rolling on the floor laughing my ass off\",\\n    \"rt\" : \"retweet\",\\n    \"ruok\" : \"are you ok\",\\n    \"sfw\" : \"safe for work\",\\n    \"sk8\" : \"skate\",\\n    \"smh\" : \"shake my head\",\\n    \"sq\" : \"square\",\\n    \"srsly\" : \"seriously\", \\n    \"ssdd\" : \"same stuff different day\",\\n    \"tbh\" : \"to be honest\",\\n    \"tbs\" : \"tablespooful\",\\n    \"tbsp\" : \"tablespooful\",\\n    \"tfw\" : \"that feeling when\",\\n    \"thks\" : \"thank you\",\\n    \"tho\" : \"though\",\\n    \"thx\" : \"thank you\",\\n    \"tia\" : \"thanks in advance\",\\n    \"til\" : \"today i learned\",\\n    \"tl;dr\" : \"too long i did not read\",\\n    \"tldr\" : \"too long i did not read\",\\n    \"tmb\" : \"tweet me back\",\\n    \"tntl\" : \"trying not to laugh\",\\n    \"ttyl\" : \"talk to you later\",\\n    \"u\" : \"you\",\\n    \"u2\" : \"you too\",\\n    \"u4e\" : \"yours for ever\",\\n    \"utc\" : \"coordinated universal time\",\\n    \"w/\" : \"with\",\\n    \"w/o\" : \"without\",\\n    \"w8\" : \"wait\",\\n    \"wassup\" : \"what is up\",\\n    \"wb\" : \"welcome back\",\\n    \"wtf\" : \"what the fuck\",\\n    \"wtg\" : \"way to go\",\\n    \"wtpa\" : \"where the party at\",\\n    \"wuf\" : \"where are you from\",\\n    \"wuzup\" : \"what is up\",\\n    \"wywh\" : \"wish you were here\",\\n    \"yd\" : \"yard\",\\n    \"ygtr\" : \"you got that right\",\\n    \"ynk\" : \"you never know\",\\n    \"zzz\" : \"sleeping bored and tired\"\\n}'"
      ]
     },
     "execution_count": 15,
     "metadata": {},
     "output_type": "execute_result"
    }
   ],
   "source": [
    "data"
   ]
  },
  {
   "cell_type": "code",
   "execution_count": 16,
   "metadata": {},
   "outputs": [],
   "source": [
    "import ast"
   ]
  },
  {
   "cell_type": "code",
   "execution_count": 17,
   "metadata": {},
   "outputs": [],
   "source": [
    "abbre_dict = ast.literal_eval(data)\n"
   ]
  },
  {
   "cell_type": "code",
   "execution_count": 18,
   "metadata": {},
   "outputs": [
    {
     "data": {
      "text/plain": [
       "{'$': ' dollar ',\n",
       " '€': ' euro ',\n",
       " '4ao': 'for adults only',\n",
       " 'a.m': 'before midday',\n",
       " 'a3': 'anytime anywhere anyplace',\n",
       " 'aamof': 'as a matter of fact',\n",
       " 'acct': 'account',\n",
       " 'adih': 'another day in hell',\n",
       " 'afaic': 'as far as i am concerned',\n",
       " 'afaict': 'as far as i can tell',\n",
       " 'afaik': 'as far as i know',\n",
       " 'afair': 'as far as i remember',\n",
       " 'afk': 'away from keyboard',\n",
       " 'app': 'application',\n",
       " 'approx': 'approximately',\n",
       " 'apps': 'applications',\n",
       " 'asap': 'as soon as possible',\n",
       " 'asl': 'age, sex, location',\n",
       " 'atk': 'at the keyboard',\n",
       " 'ave.': 'avenue',\n",
       " 'aymm': 'are you my mother',\n",
       " 'ayor': 'at your own risk',\n",
       " 'b&b': 'bed and breakfast',\n",
       " 'b+b': 'bed and breakfast',\n",
       " 'b.c': 'before christ',\n",
       " 'b2b': 'business to business',\n",
       " 'b2c': 'business to customer',\n",
       " 'b4': 'before',\n",
       " 'b4n': 'bye for now',\n",
       " 'b@u': 'back at you',\n",
       " 'bae': 'before anyone else',\n",
       " 'bak': 'back at keyboard',\n",
       " 'bbbg': 'bye bye be good',\n",
       " 'bbc': 'british broadcasting corporation',\n",
       " 'bbias': 'be back in a second',\n",
       " 'bbl': 'be back later',\n",
       " 'bbs': 'be back soon',\n",
       " 'be4': 'before',\n",
       " 'bfn': 'bye for now',\n",
       " 'blvd': 'boulevard',\n",
       " 'bout': 'about',\n",
       " 'brb': 'be right back',\n",
       " 'bros': 'brothers',\n",
       " 'brt': 'be right there',\n",
       " 'bsaaw': 'big smile and a wink',\n",
       " 'btw': 'by the way',\n",
       " 'bwl': 'bursting with laughter',\n",
       " 'c/o': 'care of',\n",
       " 'cet': 'central european time',\n",
       " 'cf': 'compare',\n",
       " 'cia': 'central intelligence agency',\n",
       " 'csl': 'can not stop laughing',\n",
       " 'cu': 'see you',\n",
       " 'cul8r': 'see you later',\n",
       " 'cv': 'curriculum vitae',\n",
       " 'cwot': 'complete waste of time',\n",
       " 'cya': 'see you',\n",
       " 'cyt': 'see you tomorrow',\n",
       " 'dae': 'does anyone else',\n",
       " 'dbmib': 'do not bother me i am busy',\n",
       " 'diy': 'do it yourself',\n",
       " 'dm': 'direct message',\n",
       " 'dwh': 'during work hours',\n",
       " 'e123': 'easy as one two three',\n",
       " 'eet': 'eastern european time',\n",
       " 'eg': 'example',\n",
       " 'embm': 'early morning business meeting',\n",
       " 'encl': 'enclosed',\n",
       " 'encl.': 'enclosed',\n",
       " 'etc': 'and so on',\n",
       " 'faq': 'frequently asked questions',\n",
       " 'fawc': 'for anyone who cares',\n",
       " 'fb': 'facebook',\n",
       " 'fc': 'fingers crossed',\n",
       " 'fig': 'figure',\n",
       " 'fimh': 'forever in my heart',\n",
       " 'ft.': 'feet',\n",
       " 'ft': 'featuring',\n",
       " 'ftl': 'for the loss',\n",
       " 'ftw': 'for the win',\n",
       " 'fwiw': 'for what it is worth',\n",
       " 'fyi': 'for your information',\n",
       " 'g9': 'genius',\n",
       " 'gahoy': 'get a hold of yourself',\n",
       " 'gal': 'get a life',\n",
       " 'gcse': 'general certificate of secondary education',\n",
       " 'gfn': 'gone for now',\n",
       " 'gg': 'good game',\n",
       " 'gl': 'good luck',\n",
       " 'glhf': 'good luck have fun',\n",
       " 'gmt': 'greenwich mean time',\n",
       " 'gmta': 'great minds think alike',\n",
       " 'gn': 'good night',\n",
       " 'g.o.a.t': 'greatest of all time',\n",
       " 'goat': 'greatest of all time',\n",
       " 'goi': 'get over it',\n",
       " 'gps': 'global positioning system',\n",
       " 'gr8': 'great',\n",
       " 'gratz': 'congratulations',\n",
       " 'gyal': 'girl',\n",
       " 'h&c': 'hot and cold',\n",
       " 'hp': 'horsepower',\n",
       " 'hr': 'hour',\n",
       " 'hrh': 'his royal highness',\n",
       " 'ht': 'height',\n",
       " 'ibrb': 'i will be right back',\n",
       " 'ic': 'i see',\n",
       " 'icq': 'i seek you',\n",
       " 'icymi': 'in case you missed it',\n",
       " 'idc': 'i do not care',\n",
       " 'idgadf': 'i do not give a damn fuck',\n",
       " 'idgaf': 'i do not give a fuck',\n",
       " 'idk': 'i do not know',\n",
       " 'ie': 'that is',\n",
       " 'i.e': 'that is',\n",
       " 'ifyp': 'i feel your pain',\n",
       " 'IG': 'instagram',\n",
       " 'iirc': 'if i remember correctly',\n",
       " 'ilu': 'i love you',\n",
       " 'ily': 'i love you',\n",
       " 'imho': 'in my humble opinion',\n",
       " 'imo': 'in my opinion',\n",
       " 'imu': 'i miss you',\n",
       " 'iow': 'in other words',\n",
       " 'irl': 'in real life',\n",
       " 'j4f': 'just for fun',\n",
       " 'jic': 'just in case',\n",
       " 'jk': 'just kidding',\n",
       " 'jsyk': 'just so you know',\n",
       " 'l8r': 'later',\n",
       " 'lb': 'pound',\n",
       " 'lbs': 'pounds',\n",
       " 'ldr': 'long distance relationship',\n",
       " 'lmao': 'laugh my ass off',\n",
       " 'lmfao': 'laugh my fucking ass off',\n",
       " 'lol': 'laughing out loud',\n",
       " 'ltd': 'limited',\n",
       " 'ltns': 'long time no see',\n",
       " 'm8': 'mate',\n",
       " 'mf': 'motherfucker',\n",
       " 'mfs': 'motherfuckers',\n",
       " 'mfw': 'my face when',\n",
       " 'mofo': 'motherfucker',\n",
       " 'mph': 'miles per hour',\n",
       " 'mr': 'mister',\n",
       " 'mrw': 'my reaction when',\n",
       " 'ms': 'miss',\n",
       " 'mte': 'my thoughts exactly',\n",
       " 'nagi': 'not a good idea',\n",
       " 'nbc': 'national broadcasting company',\n",
       " 'nbd': 'not big deal',\n",
       " 'nfs': 'not for sale',\n",
       " 'ngl': 'not going to lie',\n",
       " 'nhs': 'national health service',\n",
       " 'nrn': 'no reply necessary',\n",
       " 'nsfl': 'not safe for life',\n",
       " 'nsfw': 'not safe for work',\n",
       " 'nth': 'nice to have',\n",
       " 'nvr': 'never',\n",
       " 'nyc': 'new york city',\n",
       " 'oc': 'original content',\n",
       " 'og': 'original',\n",
       " 'ohp': 'overhead projector',\n",
       " 'oic': 'oh i see',\n",
       " 'omdb': 'over my dead body',\n",
       " 'omg': 'oh my god',\n",
       " 'omw': 'on my way',\n",
       " 'p.a': 'per annum',\n",
       " 'p.m': 'after midday',\n",
       " 'pm': 'prime minister',\n",
       " 'poc': 'people of color',\n",
       " 'pov': 'point of view',\n",
       " 'pp': 'pages',\n",
       " 'ppl': 'people',\n",
       " 'prw': 'parents are watching',\n",
       " 'ps': 'postscript',\n",
       " 'pt': 'point',\n",
       " 'ptb': 'please text back',\n",
       " 'pto': 'please turn over',\n",
       " 'qpsa': 'what happens',\n",
       " 'ratchet': 'rude',\n",
       " 'rbtl': 'read between the lines',\n",
       " 'rlrt': 'real life retweet',\n",
       " 'rofl': 'rolling on the floor laughing',\n",
       " 'roflol': 'rolling on the floor laughing out loud',\n",
       " 'rotflmao': 'rolling on the floor laughing my ass off',\n",
       " 'rt': 'retweet',\n",
       " 'ruok': 'are you ok',\n",
       " 'sfw': 'safe for work',\n",
       " 'sk8': 'skate',\n",
       " 'smh': 'shake my head',\n",
       " 'sq': 'square',\n",
       " 'srsly': 'seriously',\n",
       " 'ssdd': 'same stuff different day',\n",
       " 'tbh': 'to be honest',\n",
       " 'tbs': 'tablespooful',\n",
       " 'tbsp': 'tablespooful',\n",
       " 'tfw': 'that feeling when',\n",
       " 'thks': 'thank you',\n",
       " 'tho': 'though',\n",
       " 'thx': 'thank you',\n",
       " 'tia': 'thanks in advance',\n",
       " 'til': 'today i learned',\n",
       " 'tl;dr': 'too long i did not read',\n",
       " 'tldr': 'too long i did not read',\n",
       " 'tmb': 'tweet me back',\n",
       " 'tntl': 'trying not to laugh',\n",
       " 'ttyl': 'talk to you later',\n",
       " 'u': 'you',\n",
       " 'u2': 'you too',\n",
       " 'u4e': 'yours for ever',\n",
       " 'utc': 'coordinated universal time',\n",
       " 'w/': 'with',\n",
       " 'w/o': 'without',\n",
       " 'w8': 'wait',\n",
       " 'wassup': 'what is up',\n",
       " 'wb': 'welcome back',\n",
       " 'wtf': 'what the fuck',\n",
       " 'wtg': 'way to go',\n",
       " 'wtpa': 'where the party at',\n",
       " 'wuf': 'where are you from',\n",
       " 'wuzup': 'what is up',\n",
       " 'wywh': 'wish you were here',\n",
       " 'yd': 'yard',\n",
       " 'ygtr': 'you got that right',\n",
       " 'ynk': 'you never know',\n",
       " 'zzz': 'sleeping bored and tired'}"
      ]
     },
     "execution_count": 18,
     "metadata": {},
     "output_type": "execute_result"
    }
   ],
   "source": [
    "abbre_dict"
   ]
  },
  {
   "cell_type": "code",
   "execution_count": 19,
   "metadata": {},
   "outputs": [
    {
     "data": {
      "text/plain": [
       "'complete this task as soon as possible'"
      ]
     },
     "execution_count": 19,
     "metadata": {},
     "output_type": "execute_result"
    }
   ],
   "source": [
    "words = \"complete this task asap\"\n",
    "\n",
    "word_list = []\n",
    "for word in words.split():\n",
    "    if word.lower() in abbre_dict.keys():\n",
    "        word = abbre_dict[word.lower()]\n",
    "        word_list.append(word)\n",
    "    else:\n",
    "        word_list.append(word)\n",
    "\n",
    "\" \".join(word_list)"
   ]
  },
  {
   "cell_type": "code",
   "execution_count": 20,
   "metadata": {},
   "outputs": [],
   "source": [
    "text = [\"cat chased dog\", \"dog chased cat\", \"cat and dog playing\"]\n",
    "\n",
    "labels = [1,1,0]"
   ]
  },
  {
   "cell_type": "code",
   "execution_count": 21,
   "metadata": {},
   "outputs": [],
   "source": [
    "import pandas as pd "
   ]
  },
  {
   "cell_type": "code",
   "execution_count": 22,
   "metadata": {},
   "outputs": [
    {
     "data": {
      "text/html": [
       "<div>\n",
       "<style scoped>\n",
       "    .dataframe tbody tr th:only-of-type {\n",
       "        vertical-align: middle;\n",
       "    }\n",
       "\n",
       "    .dataframe tbody tr th {\n",
       "        vertical-align: top;\n",
       "    }\n",
       "\n",
       "    .dataframe thead th {\n",
       "        text-align: right;\n",
       "    }\n",
       "</style>\n",
       "<table border=\"1\" class=\"dataframe\">\n",
       "  <thead>\n",
       "    <tr style=\"text-align: right;\">\n",
       "      <th></th>\n",
       "      <th>text</th>\n",
       "      <th>sentiment</th>\n",
       "    </tr>\n",
       "  </thead>\n",
       "  <tbody>\n",
       "    <tr>\n",
       "      <th>0</th>\n",
       "      <td>cat chased dog</td>\n",
       "      <td>1</td>\n",
       "    </tr>\n",
       "    <tr>\n",
       "      <th>1</th>\n",
       "      <td>dog chased cat</td>\n",
       "      <td>1</td>\n",
       "    </tr>\n",
       "    <tr>\n",
       "      <th>2</th>\n",
       "      <td>cat and dog playing</td>\n",
       "      <td>0</td>\n",
       "    </tr>\n",
       "  </tbody>\n",
       "</table>\n",
       "</div>"
      ],
      "text/plain": [
       "                  text  sentiment\n",
       "0       cat chased dog          1\n",
       "1       dog chased cat          1\n",
       "2  cat and dog playing          0"
      ]
     },
     "execution_count": 22,
     "metadata": {},
     "output_type": "execute_result"
    }
   ],
   "source": [
    "df = pd.DataFrame({\"text\" : text, \"sentiment\" : labels})\n",
    "df"
   ]
  },
  {
   "cell_type": "code",
   "execution_count": 23,
   "metadata": {},
   "outputs": [],
   "source": [
    "from sklearn.feature_extraction.text import CountVectorizer"
   ]
  },
  {
   "cell_type": "code",
   "execution_count": 24,
   "metadata": {},
   "outputs": [],
   "source": [
    "count_vectorizer = CountVectorizer()"
   ]
  },
  {
   "cell_type": "code",
   "execution_count": 26,
   "metadata": {},
   "outputs": [
    {
     "data": {
      "text/plain": [
       "<3x5 sparse matrix of type '<class 'numpy.int64'>'\n",
       "\twith 10 stored elements in Compressed Sparse Row format>"
      ]
     },
     "execution_count": 26,
     "metadata": {},
     "output_type": "execute_result"
    }
   ],
   "source": [
    "vectors = count_vectorizer.fit_transform(df[\"text\"])\n",
    "vectors"
   ]
  },
  {
   "cell_type": "code",
   "execution_count": 27,
   "metadata": {},
   "outputs": [
    {
     "data": {
      "text/plain": [
       "array([[0, 1, 1, 1, 0]], dtype=int64)"
      ]
     },
     "execution_count": 27,
     "metadata": {},
     "output_type": "execute_result"
    }
   ],
   "source": [
    "vectors[0].toarray()"
   ]
  },
  {
   "cell_type": "code",
   "execution_count": 28,
   "metadata": {},
   "outputs": [
    {
     "data": {
      "text/plain": [
       "{'cat': 1, 'chased': 2, 'dog': 3, 'and': 0, 'playing': 4}"
      ]
     },
     "execution_count": 28,
     "metadata": {},
     "output_type": "execute_result"
    }
   ],
   "source": [
    "count_vectorizer.vocabulary_"
   ]
  },
  {
   "cell_type": "code",
   "execution_count": 29,
   "metadata": {},
   "outputs": [
    {
     "data": {
      "text/plain": [
       "array([[0, 1, 1, 1, 0]], dtype=int64)"
      ]
     },
     "execution_count": 29,
     "metadata": {},
     "output_type": "execute_result"
    }
   ],
   "source": [
    "vectors[1].toarray()"
   ]
  },
  {
   "cell_type": "code",
   "execution_count": 30,
   "metadata": {},
   "outputs": [
    {
     "data": {
      "text/plain": [
       "array([[1, 1, 0, 1, 1]], dtype=int64)"
      ]
     },
     "execution_count": 30,
     "metadata": {},
     "output_type": "execute_result"
    }
   ],
   "source": [
    "vectors[2].toarray()"
   ]
  },
  {
   "cell_type": "code",
   "execution_count": null,
   "metadata": {},
   "outputs": [],
   "source": []
  }
 ],
 "metadata": {
  "kernelspec": {
   "display_name": "Abhishek",
   "language": "python",
   "name": "python3"
  },
  "language_info": {
   "codemirror_mode": {
    "name": "ipython",
    "version": 3
   },
   "file_extension": ".py",
   "mimetype": "text/x-python",
   "name": "python",
   "nbconvert_exporter": "python",
   "pygments_lexer": "ipython3",
   "version": "3.9.17"
  }
 },
 "nbformat": 4,
 "nbformat_minor": 2
}
